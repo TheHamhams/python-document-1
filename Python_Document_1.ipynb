{
  "cells": [
    {
      "cell_type": "markdown",
      "metadata": {
        "id": "4nW-4DnWFeIn"
      },
      "source": [
        "# Week 2 - Monday Lesson (variable assignment, loops, lists)"
      ]
    },
    {
      "cell_type": "markdown",
      "metadata": {
        "id": "HXbJoxCUFeIo"
      },
      "source": [
        "## Tasks Today:\n",
        "\n",
        "1) Int & Float assignments <br>\n",
        " &nbsp;&nbsp;&nbsp;&nbsp; a) Assigning int <br>\n",
        " &nbsp;&nbsp;&nbsp;&nbsp; b) Assigning float <br>\n",
        " &nbsp;&nbsp;&nbsp;&nbsp; c) Performing Calculations on ints and floats <br>\n",
        " &nbsp;&nbsp;&nbsp;&nbsp;&nbsp;&nbsp;&nbsp;&nbsp; - Addition <br>\n",
        " &nbsp;&nbsp;&nbsp;&nbsp;&nbsp;&nbsp;&nbsp;&nbsp; - Subtraction <br>\n",
        " &nbsp;&nbsp;&nbsp;&nbsp;&nbsp;&nbsp;&nbsp;&nbsp; - Multiplication <br>\n",
        " &nbsp;&nbsp;&nbsp;&nbsp;&nbsp;&nbsp;&nbsp;&nbsp; - Division <br>\n",
        " &nbsp;&nbsp;&nbsp;&nbsp;&nbsp;&nbsp;&nbsp;&nbsp; - Floor Division <br>\n",
        " &nbsp;&nbsp;&nbsp;&nbsp;&nbsp;&nbsp;&nbsp;&nbsp; - Modulo <br>\n",
        " &nbsp;&nbsp;&nbsp;&nbsp;&nbsp;&nbsp;&nbsp;&nbsp; - Exponential <br>\n",
        "2) String Input-Output <br>\n",
        " &nbsp;&nbsp;&nbsp;&nbsp; a) String Assignment <br>\n",
        " &nbsp;&nbsp;&nbsp;&nbsp; b) print() <br>\n",
        " &nbsp;&nbsp;&nbsp;&nbsp; c) String Concatenation <br>\n",
        " &nbsp;&nbsp;&nbsp;&nbsp; d) Type Conversion <br>\n",
        " &nbsp;&nbsp;&nbsp;&nbsp; e) input() <br>\n",
        " &nbsp;&nbsp;&nbsp;&nbsp; f) format() <br>\n",
        " &nbsp;&nbsp;&nbsp;&nbsp; g) Old Way (python 2) <br>\n",
        "3) <b>In-Class Exercise #1</b> <br>\n",
        "4) If Statements <br>\n",
        " &nbsp;&nbsp;&nbsp;&nbsp; a) 'is' keyword <br>\n",
        " &nbsp;&nbsp;&nbsp;&nbsp; b) 'in' keyword <br>\n",
        " &nbsp;&nbsp;&nbsp;&nbsp; c) 'not in' keyword <br>\n",
        "5) <b>In-Class Exercise #2</b> <br>\n",
        "6) Elif Statements <br>\n",
        "7) Else Statements <br>\n",
        "8) <b>In-Class Exercise #3</b> <br>\n",
        "9) For Loops <br>\n",
        " &nbsp;&nbsp;&nbsp;&nbsp; a) Using 'in' keyword <br>\n",
        " &nbsp;&nbsp;&nbsp;&nbsp; b) Continue Statement <br>\n",
        " &nbsp;&nbsp;&nbsp;&nbsp; c) Break Statement <br>\n",
        " &nbsp;&nbsp;&nbsp;&nbsp; d) Pass Statement <br>\n",
        " &nbsp;&nbsp;&nbsp;&nbsp; e) Double For Loops <br>\n",
        "10) While Loops <br>\n",
        " &nbsp;&nbsp;&nbsp;&nbsp; a) Looping 'While True' <br>\n",
        " &nbsp;&nbsp;&nbsp;&nbsp; b) While and For Loops Used Together <br>\n",
        "11) Built-In Functions <br>\n",
        " &nbsp;&nbsp;&nbsp;&nbsp; a) range() <br>\n",
        " &nbsp;&nbsp;&nbsp;&nbsp; b) len() <br>\n",
        " &nbsp;&nbsp;&nbsp;&nbsp; c) help() <br>\n",
        " &nbsp;&nbsp;&nbsp;&nbsp; d) isinstance() <br>\n",
        " &nbsp;&nbsp;&nbsp;&nbsp; e) abs() <br>\n",
        "12) Try and Except <br>\n",
        "13) Lists <br>\n",
        " &nbsp;&nbsp;&nbsp;&nbsp; a) Declaring Lists <br>\n",
        " &nbsp;&nbsp;&nbsp;&nbsp; b) Indexing a List <br>\n",
        " &nbsp;&nbsp;&nbsp;&nbsp; c) .append() <br>\n",
        " &nbsp;&nbsp;&nbsp;&nbsp; d) .insert() <br>\n",
        " &nbsp;&nbsp;&nbsp;&nbsp; e) .pop() <br>\n",
        " &nbsp;&nbsp;&nbsp;&nbsp; f) .remove() <br>\n",
        " &nbsp;&nbsp;&nbsp;&nbsp; g) del() <br>\n",
        " &nbsp;&nbsp;&nbsp;&nbsp; h) Concatenating Two Lists <br>\n",
        " &nbsp;&nbsp;&nbsp;&nbsp; i) Lists Within Lists <br>\n",
        " &nbsp;&nbsp;&nbsp;&nbsp; j) Looping Through Lists <br>"
      ]
    },
    {
      "cell_type": "markdown",
      "metadata": {
        "id": "AH0uE9vYFeIq"
      },
      "source": [
        "### Int & Float Assignments"
      ]
    },
    {
      "cell_type": "markdown",
      "metadata": {
        "id": "cxTnJlDeFeIr"
      },
      "source": [
        "##### Assigning int"
      ]
    },
    {
      "cell_type": "code",
      "execution_count": 31,
      "metadata": {
        "id": "HtPUucV6FeIs"
      },
      "outputs": [],
      "source": [
        "number = 6"
      ]
    },
    {
      "cell_type": "markdown",
      "metadata": {
        "id": "iU1xWU6qFeIs"
      },
      "source": [
        "##### Assinging float"
      ]
    },
    {
      "cell_type": "code",
      "execution_count": 32,
      "metadata": {
        "id": "llrM75QSFeIt"
      },
      "outputs": [
        {
          "name": "stdout",
          "output_type": "stream",
          "text": [
            "2.3\n",
            "7.2\n"
          ]
        }
      ],
      "source": [
        "number_float = 2.3\n",
        "print(number_float)\n",
        "number_float = 7.2\n",
        "print(number_float)"
      ]
    },
    {
      "cell_type": "markdown",
      "metadata": {
        "id": "Wilif5jnFeIt"
      },
      "source": [
        "#### Performing Calculations on ints and floats"
      ]
    },
    {
      "cell_type": "markdown",
      "metadata": {
        "id": "cCaVhfLGFeIu"
      },
      "source": [
        "##### Addition"
      ]
    },
    {
      "cell_type": "code",
      "execution_count": 33,
      "metadata": {
        "id": "BU-nZWL3FeIv"
      },
      "outputs": [
        {
          "name": "stdout",
          "output_type": "stream",
          "text": [
            "7.4\n",
            "9.4\n"
          ]
        }
      ],
      "source": [
        "num1 = 2\n",
        "num2 = 5.4\n",
        "\n",
        "result = num1 + num2\n",
        "\n",
        "print(result)\n",
        "\n",
        "# result += 2\n",
        "print(result + 2)"
      ]
    },
    {
      "cell_type": "markdown",
      "metadata": {
        "id": "najJquJAFeIv"
      },
      "source": [
        "##### Subtraction"
      ]
    },
    {
      "cell_type": "code",
      "execution_count": 34,
      "metadata": {
        "id": "_EJeYqPVFeIv"
      },
      "outputs": [
        {
          "name": "stdout",
          "output_type": "stream",
          "text": [
            "3.4000000000000004\n",
            "1.4000000000000004\n"
          ]
        }
      ],
      "source": [
        "result_diff = num2 - num1\n",
        "print(result_diff)\n",
        "\n",
        "result_diff -= 1\n",
        "print(result_diff - 1)"
      ]
    },
    {
      "cell_type": "markdown",
      "metadata": {
        "id": "uBQ8lxR2FeIv"
      },
      "source": [
        "##### Multiplication"
      ]
    },
    {
      "cell_type": "code",
      "execution_count": 59,
      "metadata": {
        "id": "zP-nnCB0FeIw"
      },
      "outputs": [
        {
          "name": "stdout",
          "output_type": "stream",
          "text": [
            "7.4\n",
            "21.6\n"
          ]
        }
      ],
      "source": [
        "result_mul = num1 * num2\n",
        "print(result)\n",
        "\n",
        "result_mul *= 2\n",
        "print(result_mul)"
      ]
    },
    {
      "cell_type": "markdown",
      "metadata": {
        "id": "oeZ0j86JFeIw"
      },
      "source": [
        "##### Division"
      ]
    },
    {
      "cell_type": "code",
      "execution_count": 60,
      "metadata": {
        "id": "XNM6sMrFFeIw"
      },
      "outputs": [
        {
          "name": "stdout",
          "output_type": "stream",
          "text": [
            "2.7\n",
            "0.9\n"
          ]
        }
      ],
      "source": [
        "result_div = num2 / num1\n",
        "print(result_div)\n",
        "\n",
        "result_div /= 3\n",
        "print(result_div)"
      ]
    },
    {
      "cell_type": "markdown",
      "metadata": {
        "id": "zTaTJvgIFeIw"
      },
      "source": [
        "##### Floor Division"
      ]
    },
    {
      "cell_type": "code",
      "execution_count": 61,
      "metadata": {
        "id": "ISmmiMTKFeIx"
      },
      "outputs": [
        {
          "name": "stdout",
          "output_type": "stream",
          "text": [
            "2.0\n",
            "1.0\n"
          ]
        }
      ],
      "source": [
        "result_floor = num2 // num1\n",
        "print(result_floor)\n",
        "\n",
        "result_floor //= 2\n",
        "print(result_floor)"
      ]
    },
    {
      "cell_type": "markdown",
      "metadata": {
        "id": "nf650HBpFeIx"
      },
      "source": [
        "##### Modulo"
      ]
    },
    {
      "cell_type": "code",
      "execution_count": 62,
      "metadata": {
        "id": "2fHauHIwFeIx"
      },
      "outputs": [
        {
          "name": "stdout",
          "output_type": "stream",
          "text": [
            "1\n",
            "1\n"
          ]
        }
      ],
      "source": [
        "result_mod = 13 % 2\n",
        "print(result_mod)\n",
        "\n",
        "result_mod %= 2\n",
        "print(result_mod)"
      ]
    },
    {
      "cell_type": "markdown",
      "metadata": {
        "id": "GB301LbvFeIx"
      },
      "source": [
        "##### Exponential"
      ]
    },
    {
      "cell_type": "code",
      "execution_count": 63,
      "metadata": {
        "id": "ky4bSQSTFeIy"
      },
      "outputs": [
        {
          "name": "stdout",
          "output_type": "stream",
          "text": [
            "25\n",
            "625\n"
          ]
        }
      ],
      "source": [
        "square = 5 ** 2\n",
        "print(square)\n",
        "\n",
        "square **= 2\n",
        "print(square)"
      ]
    },
    {
      "cell_type": "markdown",
      "metadata": {
        "id": "d6C9PzuXFeIy"
      },
      "source": [
        "### String Input-Output"
      ]
    },
    {
      "cell_type": "markdown",
      "metadata": {
        "id": "m8HfuxTqFeIy"
      },
      "source": [
        "##### String Assignment"
      ]
    },
    {
      "cell_type": "code",
      "execution_count": 65,
      "metadata": {
        "id": "JEbtcKnOFeIy"
      },
      "outputs": [
        {
          "name": "stdout",
          "output_type": "stream",
          "text": [
            "Brandon\n"
          ]
        }
      ],
      "source": [
        "name = \"Brandon\"\n",
        "print(name)"
      ]
    },
    {
      "cell_type": "markdown",
      "metadata": {
        "id": "ALqLZ4KVFeIy"
      },
      "source": [
        "##### print() <br>\n",
        "<p>Don't forget about end=' '</p>"
      ]
    },
    {
      "cell_type": "code",
      "execution_count": 66,
      "metadata": {
        "id": "YGl0QA_0FeIz"
      },
      "outputs": [
        {
          "name": "stdout",
          "output_type": "stream",
          "text": [
            "This is my first name:  Brandon\n",
            "Full name:  Brandon Apol"
          ]
        }
      ],
      "source": [
        "print(\"This is my first name: \", name)\n",
        "\n",
        "print(\"Full name: \", name, end=\" Apol\")"
      ]
    },
    {
      "cell_type": "markdown",
      "metadata": {
        "id": "3PaooReWFeIz"
      },
      "source": [
        "##### String Concatenation"
      ]
    },
    {
      "cell_type": "code",
      "execution_count": 68,
      "metadata": {
        "id": "t2quclYAFeIz"
      },
      "outputs": [
        {
          "name": "stdout",
          "output_type": "stream",
          "text": [
            "John Smith\n"
          ]
        }
      ],
      "source": [
        "first_name = 'John'\n",
        "last_name = 'Smith'\n",
        "\n",
        "full_name = first_name + ' ' + last_name\n",
        "print(full_name)"
      ]
    },
    {
      "cell_type": "markdown",
      "metadata": {
        "id": "y3R2oP2TFeIz"
      },
      "source": [
        "##### Type Conversion"
      ]
    },
    {
      "cell_type": "code",
      "execution_count": 69,
      "metadata": {
        "id": "DfdApCvSFeIz"
      },
      "outputs": [
        {
          "name": "stdout",
          "output_type": "stream",
          "text": [
            "32\n",
            "32\n"
          ]
        }
      ],
      "source": [
        "number = \"32\"\n",
        "\n",
        "change_type_num = int(number)\n",
        "\n",
        "print(number)\n",
        "print(change_type_num)"
      ]
    },
    {
      "cell_type": "markdown",
      "metadata": {
        "id": "q-unyeKuFeI1"
      },
      "source": [
        "##### input()"
      ]
    },
    {
      "cell_type": "code",
      "execution_count": 70,
      "metadata": {
        "id": "1GEmAmWPFeI1"
      },
      "outputs": [
        {
          "name": "stdout",
          "output_type": "stream",
          "text": [
            "40\n"
          ]
        }
      ],
      "source": [
        "age = int(input('What is your age?: '))\n",
        "add_age = age + 5\n",
        "print(add_age)"
      ]
    },
    {
      "cell_type": "markdown",
      "metadata": {
        "id": "YHkduIxxFeI1"
      },
      "source": [
        "##### format()"
      ]
    },
    {
      "cell_type": "code",
      "execution_count": 72,
      "metadata": {
        "id": "WzdKKaOKFeI1"
      },
      "outputs": [
        {
          "name": "stdout",
          "output_type": "stream",
          "text": [
            "You are 12 Brandon amd are gettomg wiser\n",
            "12 is a great time in life!!!\n"
          ]
        }
      ],
      "source": [
        "age = input(\"What is your age? \")\n",
        "\n",
        "result_string = \"You are {} {} and are gettomg wiser\".format(age, name)\n",
        "print(result_string)\n",
        "\n",
        "result_again = f\"{age} is a great time in life!!!\"\n",
        "print(result_again)"
      ]
    },
    {
      "cell_type": "markdown",
      "metadata": {
        "id": "2rZSOF_qFeI1"
      },
      "source": [
        "##### Old Way (python 2)"
      ]
    },
    {
      "cell_type": "code",
      "execution_count": 73,
      "metadata": {
        "id": "-nAZi6eDFeI1"
      },
      "outputs": [
        {
          "name": "stdout",
          "output_type": "stream",
          "text": [
            "You are 12 and you look great for your age!\n"
          ]
        }
      ],
      "source": [
        "result_string2 = \"You are %s and you look great for your age!\" %age\n",
        "print(result_string2)"
      ]
    },
    {
      "cell_type": "markdown",
      "metadata": {
        "id": "C6h-42YrFeI2"
      },
      "source": [
        "# In-Class Exercise 1 <br>\n",
        "<p>Create a format statement that asks for color, year, make, model and prints out the results</p>"
      ]
    },
    {
      "cell_type": "code",
      "execution_count": 35,
      "metadata": {
        "id": "0GtiM0d2FeI2"
      },
      "outputs": [
        {
          "name": "stdout",
          "output_type": "stream",
          "text": [
            "Your car is a    \n"
          ]
        }
      ],
      "source": [
        "color = input('What is the color of your car?')\n",
        "year = input('What is the year of your car?')\n",
        "make = input('What is the make of your car?')\n",
        "model = input('What is the model of your car?')\n",
        "\n",
        "print(f\"Your car is a {color} {year} {make} {model}\")"
      ]
    },
    {
      "cell_type": "markdown",
      "metadata": {
        "id": "l_QoswNhFeI2"
      },
      "source": [
        "### If Statements"
      ]
    },
    {
      "cell_type": "code",
      "execution_count": 74,
      "metadata": {
        "id": "9Jj6ndMVFeI2"
      },
      "outputs": [
        {
          "name": "stdout",
          "output_type": "stream",
          "text": [
            "This ran!\n"
          ]
        }
      ],
      "source": [
        "# Available operators: Greater(>), Less(<),Equal(==)\n",
        "# Greater or Equal(>=), Less or Equal (<=)\n",
        "\n",
        "# Truth Tree:\n",
        "# T && F = F\n",
        "# T && T = T\n",
        "# T || F = T\n",
        "# F || T = T\n",
        "# F || F = F\n",
        "\n",
        "num1 = 5\n",
        "num2 = 10\n",
        "num3 = 1\n",
        "\n",
        "# if num1 == num2:\n",
        "#   print('Equal Values')\n",
        "# else:\n",
        "#   print('Not Equal)\n",
        "\n",
        "if num2 < num1 or num3 > 0:\n",
        "    print('This ran!')\n",
        "else:\n",
        "    print('You are here')"
      ]
    },
    {
      "cell_type": "markdown",
      "metadata": {
        "id": "ubMMLMmGFeI2"
      },
      "source": [
        "##### 'is' keyword"
      ]
    },
    {
      "cell_type": "code",
      "execution_count": 75,
      "metadata": {
        "id": "kyYDZQPNFeI2",
        "scrolled": true
      },
      "outputs": [
        {
          "name": "stdout",
          "output_type": "stream",
          "text": [
            "This is the exact number/object\n"
          ]
        }
      ],
      "source": [
        "# The is keyword is for checking for the same object, but not the same value\n",
        "\n",
        "num3 = 55\n",
        "\n",
        "if num3 == 55:\n",
        "    print('This is the exact number/object')"
      ]
    },
    {
      "cell_type": "markdown",
      "metadata": {
        "id": "_tiOMVteFeI2"
      },
      "source": [
        "##### 'in' keyword"
      ]
    },
    {
      "cell_type": "code",
      "execution_count": 76,
      "metadata": {
        "id": "c3A4JlF6FeI3"
      },
      "outputs": [
        {
          "name": "stdout",
          "output_type": "stream",
          "text": [
            "The ring bearer\n"
          ]
        }
      ],
      "source": [
        "# Check if a character is in a string\n",
        "\n",
        "char_name = 'Frodo Baggins'\n",
        "\n",
        "if 'Frodo' in char_name:\n",
        "    print('The ring bearer')"
      ]
    },
    {
      "cell_type": "markdown",
      "metadata": {
        "id": "N3fIwiq6FeI3"
      },
      "source": [
        "##### 'not in' keyword'"
      ]
    },
    {
      "cell_type": "code",
      "execution_count": 77,
      "metadata": {
        "id": "ANnZhUIuFeI3"
      },
      "outputs": [
        {
          "name": "stdout",
          "output_type": "stream",
          "text": [
            "a is NOT here...\n"
          ]
        }
      ],
      "source": [
        "sega_char = 'Sonic'\n",
        "\n",
        "if 'a' not in sega_char:\n",
        "    print('a is NOT here...')"
      ]
    },
    {
      "cell_type": "markdown",
      "metadata": {
        "id": "xFzRNVTOFeI3"
      },
      "source": [
        "# In-Class Exercise 2 <br>\n",
        "<p>Ask user for input, check to see if the letter 'p' is in the input</p>"
      ]
    },
    {
      "cell_type": "code",
      "execution_count": 79,
      "metadata": {
        "id": "OVN2FU6yFeI4"
      },
      "outputs": [
        {
          "name": "stdout",
          "output_type": "stream",
          "text": [
            "True\n"
          ]
        }
      ],
      "source": [
        "word = input('Write anything!')\n",
        "print('p' in word)"
      ]
    },
    {
      "cell_type": "markdown",
      "metadata": {
        "id": "HpuCmYdHFeI4"
      },
      "source": [
        "## Using 'and'/'or' with If Statements"
      ]
    },
    {
      "cell_type": "code",
      "execution_count": 80,
      "metadata": {
        "id": "X8xr3n6kFeI4"
      },
      "outputs": [
        {
          "name": "stdout",
          "output_type": "stream",
          "text": [
            "True and True\n",
            "False and True\n"
          ]
        }
      ],
      "source": [
        "num_11 = 15\n",
        "num_12 = 3\n",
        "num_13 = 10\n",
        "num_14 = 3\n",
        "\n",
        "# If with and statement\n",
        "if num_11 / 5 == num_12 and num_13 - 7 == num_14:\n",
        "    print('True and True')\n",
        "    \n",
        "# If with or statement\n",
        "if num_13 == num_14 or num_11 > num_12:\n",
        "    print('False and True')"
      ]
    },
    {
      "cell_type": "markdown",
      "metadata": {
        "id": "XrW3e_S8FeI4"
      },
      "source": [
        "### Elif Statements"
      ]
    },
    {
      "cell_type": "code",
      "execution_count": 81,
      "metadata": {
        "id": "vpRbjvBAFeI4"
      },
      "outputs": [
        {
          "name": "stdout",
          "output_type": "stream",
          "text": [
            "The name is NOT Max\n"
          ]
        }
      ],
      "source": [
        "first_name = input('What is your name? ')\n",
        "\n",
        "if first_name == 'Smith':\n",
        "    print('The name is Smith')\n",
        "elif first_name == 'Brandon':\n",
        "    print('The name is Brandon')\n",
        "elif first_name != 'Max':\n",
        "    print('The name is NOT Max')\n",
        "else:\n",
        "    print('The name is Max')"
      ]
    },
    {
      "cell_type": "markdown",
      "metadata": {
        "id": "QD00IbfzFeI4"
      },
      "source": [
        "### Else Statements"
      ]
    },
    {
      "cell_type": "code",
      "execution_count": 37,
      "metadata": {
        "id": "vNavqJAvFeI5"
      },
      "outputs": [],
      "source": [
        "# see above"
      ]
    },
    {
      "cell_type": "markdown",
      "metadata": {
        "id": "b0d-o7NgFeI5"
      },
      "source": [
        "### For Loops"
      ]
    },
    {
      "cell_type": "code",
      "execution_count": 82,
      "metadata": {
        "id": "wt8ufKWEFeI5"
      },
      "outputs": [
        {
          "name": "stdout",
          "output_type": "stream",
          "text": [
            "1\n",
            "2\n",
            "3\n",
            "4\n"
          ]
        }
      ],
      "source": [
        "name = 'Brandon Apol'\n",
        "a_list = [1, 2, 3, 4]\n",
        "\n",
        "for i in a_list:\n",
        "    print(i)"
      ]
    },
    {
      "cell_type": "markdown",
      "metadata": {
        "id": "5Fy9gbhRFeI5"
      },
      "source": [
        "##### Using 'in' keyword"
      ]
    },
    {
      "cell_type": "code",
      "execution_count": 38,
      "metadata": {
        "id": "tdD8gz7IFeI5"
      },
      "outputs": [],
      "source": [
        "# see above"
      ]
    },
    {
      "cell_type": "markdown",
      "metadata": {
        "id": "C76I-WGfFeI5"
      },
      "source": [
        "##### Continue Statement"
      ]
    },
    {
      "cell_type": "code",
      "execution_count": 39,
      "metadata": {
        "id": "4iLIfnTFFeI6"
      },
      "outputs": [],
      "source": [
        "# will continue to next iteration"
      ]
    },
    {
      "cell_type": "code",
      "execution_count": 83,
      "metadata": {
        "id": "M1wdO2BcFeI6"
      },
      "outputs": [
        {
          "name": "stdout",
          "output_type": "stream",
          "text": [
            "B\n",
            "r\n",
            "n\n",
            "d\n",
            "o\n",
            "n\n",
            " \n",
            "A\n",
            "p\n",
            "o\n",
            "l\n"
          ]
        }
      ],
      "source": [
        "name = 'Brandon Apol'\n",
        "\n",
        "for i in name:\n",
        "    if i == 'a':\n",
        "        continue\n",
        "    print(i)"
      ]
    },
    {
      "cell_type": "markdown",
      "metadata": {
        "id": "oZ56i1JfFeI6"
      },
      "source": [
        "##### Break Statement"
      ]
    },
    {
      "cell_type": "code",
      "execution_count": 40,
      "metadata": {
        "id": "iAlfMgqcFeI6"
      },
      "outputs": [],
      "source": [
        "# will break out of current loop"
      ]
    },
    {
      "cell_type": "code",
      "execution_count": 84,
      "metadata": {
        "id": "VRz5_96-FeI6"
      },
      "outputs": [
        {
          "name": "stdout",
          "output_type": "stream",
          "text": [
            "0\n",
            "1\n",
            "2\n",
            "3\n",
            "4\n"
          ]
        }
      ],
      "source": [
        "for i in range(20):\n",
        "    if i == 5:\n",
        "        break\n",
        "    print(i)"
      ]
    },
    {
      "cell_type": "markdown",
      "metadata": {
        "id": "pQLvyTn2FeI7"
      },
      "source": [
        "##### Pass Statement"
      ]
    },
    {
      "cell_type": "code",
      "execution_count": 41,
      "metadata": {
        "id": "ODGsbIAtFeI7"
      },
      "outputs": [],
      "source": [
        "# mostly used as a placeholder, and will continue on same iteration"
      ]
    },
    {
      "cell_type": "code",
      "execution_count": 85,
      "metadata": {
        "id": "P4sog6bQFeI7"
      },
      "outputs": [],
      "source": [
        "for i in name:\n",
        "    pass"
      ]
    },
    {
      "cell_type": "markdown",
      "metadata": {
        "id": "a-paugV2FeI7"
      },
      "source": [
        "##### Double For Loops"
      ]
    },
    {
      "cell_type": "code",
      "execution_count": 86,
      "metadata": {
        "id": "iidmqEoUFeI7"
      },
      "outputs": [
        {
          "name": "stdout",
          "output_type": "stream",
          "text": [
            "i = 0 j = 0\n",
            "i = 0 j = 1\n",
            "i = 0 j = 2\n",
            "i = 0 j = 3\n",
            "i = 0 j = 4\n",
            "i = 1 j = 0\n",
            "i = 1 j = 1\n",
            "i = 1 j = 2\n",
            "i = 1 j = 3\n",
            "i = 1 j = 4\n",
            "i = 2 j = 0\n",
            "i = 2 j = 1\n",
            "i = 2 j = 2\n",
            "i = 2 j = 3\n",
            "i = 2 j = 4\n",
            "i = 3 j = 0\n",
            "i = 3 j = 1\n",
            "i = 3 j = 2\n",
            "i = 3 j = 3\n",
            "i = 3 j = 4\n",
            "i = 4 j = 0\n",
            "i = 4 j = 1\n",
            "i = 4 j = 2\n",
            "i = 4 j = 3\n",
            "i = 4 j = 4\n"
          ]
        }
      ],
      "source": [
        "for i in range(5):\n",
        "    for j in range(5):\n",
        "        print(f'i = {i} j = {j}')"
      ]
    },
    {
      "cell_type": "markdown",
      "metadata": {
        "id": "FvQ1qhkcFeI7"
      },
      "source": [
        "### While Loops"
      ]
    },
    {
      "cell_type": "code",
      "execution_count": 87,
      "metadata": {
        "id": "fbdnYeJUFeI8"
      },
      "outputs": [
        {
          "name": "stdout",
          "output_type": "stream",
          "text": [
            "0\n",
            "1\n",
            "2\n",
            "3\n",
            "4\n",
            "5\n",
            "6\n",
            "7\n",
            "8\n",
            "9\n"
          ]
        }
      ],
      "source": [
        "num = 0\n",
        "while num < 10:\n",
        "    print(num)\n",
        "    num += 1"
      ]
    },
    {
      "cell_type": "markdown",
      "metadata": {
        "id": "yuVlCogGFeI8"
      },
      "source": [
        "##### Looping 'While True'"
      ]
    },
    {
      "cell_type": "code",
      "execution_count": 88,
      "metadata": {
        "id": "Cef9-ygoFeI8"
      },
      "outputs": [
        {
          "name": "stdout",
          "output_type": "stream",
          "text": [
            "Infinite Loop\n",
            "Infinite Loop\n",
            "Infinite Loop\n"
          ]
        }
      ],
      "source": [
        "game_over = True\n",
        "\n",
        "while game_over:\n",
        "    print('Infinite Loop')\n",
        "    user_input = input('Would you like to stop? ')\n",
        "    if user_input == 'Yes':\n",
        "        game_over = False"
      ]
    },
    {
      "cell_type": "markdown",
      "metadata": {
        "id": "lipojExWFeI8"
      },
      "source": [
        "##### While & For Loops Used Together"
      ]
    },
    {
      "cell_type": "code",
      "execution_count": 90,
      "metadata": {
        "id": "uccYssinFeI8"
      },
      "outputs": [
        {
          "name": "stdout",
          "output_type": "stream",
          "text": [
            "\n",
            "While loop iteration: 0\n",
            "For loop iteration: 1\n",
            "For loop iteration: 2\n",
            "\n",
            "While loop iteration: 1\n",
            "For loop iteration: 1\n",
            "For loop iteration: 2\n",
            "\n",
            "While loop iteration: 2\n",
            "For loop iteration: 1\n",
            "For loop iteration: 2\n",
            "\n",
            "While loop iteration: 3\n",
            "For loop iteration: 1\n",
            "For loop iteration: 2\n",
            "\n",
            "While loop iteration: 4\n",
            "For loop iteration: 1\n",
            "For loop iteration: 2\n"
          ]
        }
      ],
      "source": [
        "num = 0\n",
        "\n",
        "while num < 5:\n",
        "    print(f'\\nWhile loop iteration: {str(num)}')\n",
        "    \n",
        "    for i in range(2):\n",
        "        print(f'For loop iteration: {str(i + 1)}')\n",
        "        \n",
        "    num += 1"
      ]
    },
    {
      "cell_type": "markdown",
      "metadata": {
        "id": "0e85jzNMFeI8"
      },
      "source": [
        "### Built-In Functions"
      ]
    },
    {
      "cell_type": "markdown",
      "metadata": {
        "id": "9ZmP1eSDFeI9"
      },
      "source": [
        "##### range()"
      ]
    },
    {
      "cell_type": "code",
      "execution_count": 42,
      "metadata": {
        "id": "qMDlUs0lFeI9"
      },
      "outputs": [
        {
          "name": "stdout",
          "output_type": "stream",
          "text": [
            "1\n",
            "4\n",
            "7\n",
            "10\n",
            "13\n",
            "16\n",
            "19\n"
          ]
        }
      ],
      "source": [
        "# range(Start, stop, step)\n",
        "\n",
        "for i in range(1, 20, 3):\n",
        "    print(i)"
      ]
    },
    {
      "cell_type": "markdown",
      "metadata": {
        "id": "0VtC8DZUFeI9"
      },
      "source": [
        "##### len()"
      ]
    },
    {
      "cell_type": "code",
      "execution_count": 43,
      "metadata": {
        "id": "zxdxPoSMFeI9"
      },
      "outputs": [
        {
          "name": "stdout",
          "output_type": "stream",
          "text": [
            "0\n"
          ]
        }
      ],
      "source": [
        "name = input('Give me the name of your favorite book: ')\n",
        "\n",
        "length = len(name)\n",
        "print(length)"
      ]
    },
    {
      "cell_type": "markdown",
      "metadata": {
        "id": "IIHSOdHMFeI9"
      },
      "source": [
        "##### help()"
      ]
    },
    {
      "cell_type": "code",
      "execution_count": 44,
      "metadata": {
        "id": "2VL-i3RQFeI9"
      },
      "outputs": [
        {
          "name": "stdout",
          "output_type": "stream",
          "text": [
            "Help on class range in module builtins:\n",
            "\n",
            "class range(object)\n",
            " |  range(stop) -> range object\n",
            " |  range(start, stop[, step]) -> range object\n",
            " |  \n",
            " |  Return an object that produces a sequence of integers from start (inclusive)\n",
            " |  to stop (exclusive) by step.  range(i, j) produces i, i+1, i+2, ..., j-1.\n",
            " |  start defaults to 0, and stop is omitted!  range(4) produces 0, 1, 2, 3.\n",
            " |  These are exactly the valid indices for a list of 4 elements.\n",
            " |  When step is given, it specifies the increment (or decrement).\n",
            " |  \n",
            " |  Methods defined here:\n",
            " |  \n",
            " |  __bool__(self, /)\n",
            " |      self != 0\n",
            " |  \n",
            " |  __contains__(self, key, /)\n",
            " |      Return key in self.\n",
            " |  \n",
            " |  __eq__(self, value, /)\n",
            " |      Return self==value.\n",
            " |  \n",
            " |  __ge__(self, value, /)\n",
            " |      Return self>=value.\n",
            " |  \n",
            " |  __getattribute__(self, name, /)\n",
            " |      Return getattr(self, name).\n",
            " |  \n",
            " |  __getitem__(self, key, /)\n",
            " |      Return self[key].\n",
            " |  \n",
            " |  __gt__(self, value, /)\n",
            " |      Return self>value.\n",
            " |  \n",
            " |  __hash__(self, /)\n",
            " |      Return hash(self).\n",
            " |  \n",
            " |  __iter__(self, /)\n",
            " |      Implement iter(self).\n",
            " |  \n",
            " |  __le__(self, value, /)\n",
            " |      Return self<=value.\n",
            " |  \n",
            " |  __len__(self, /)\n",
            " |      Return len(self).\n",
            " |  \n",
            " |  __lt__(self, value, /)\n",
            " |      Return self<value.\n",
            " |  \n",
            " |  __ne__(self, value, /)\n",
            " |      Return self!=value.\n",
            " |  \n",
            " |  __reduce__(...)\n",
            " |      Helper for pickle.\n",
            " |  \n",
            " |  __repr__(self, /)\n",
            " |      Return repr(self).\n",
            " |  \n",
            " |  __reversed__(...)\n",
            " |      Return a reverse iterator.\n",
            " |  \n",
            " |  count(...)\n",
            " |      rangeobject.count(value) -> integer -- return number of occurrences of value\n",
            " |  \n",
            " |  index(...)\n",
            " |      rangeobject.index(value) -> integer -- return index of value.\n",
            " |      Raise ValueError if the value is not present.\n",
            " |  \n",
            " |  ----------------------------------------------------------------------\n",
            " |  Static methods defined here:\n",
            " |  \n",
            " |  __new__(*args, **kwargs) from builtins.type\n",
            " |      Create and return a new object.  See help(type) for accurate signature.\n",
            " |  \n",
            " |  ----------------------------------------------------------------------\n",
            " |  Data descriptors defined here:\n",
            " |  \n",
            " |  start\n",
            " |  \n",
            " |  step\n",
            " |  \n",
            " |  stop\n",
            "\n"
          ]
        }
      ],
      "source": [
        "help(range)"
      ]
    },
    {
      "cell_type": "markdown",
      "metadata": {
        "id": "N5GQwuvtFeI-"
      },
      "source": [
        "##### isinstance()"
      ]
    },
    {
      "cell_type": "code",
      "execution_count": 45,
      "metadata": {
        "id": "9edRx2IQFeI-"
      },
      "outputs": [
        {
          "name": "stdout",
          "output_type": "stream",
          "text": [
            "4 is an int\n"
          ]
        }
      ],
      "source": [
        "# Check a variable to find out what object family (or data type) it belongs to\n",
        "# isinstance(var, type)\n",
        "\n",
        "num = 4\n",
        "\n",
        "if isinstance(num, int):\n",
        "    print(f\"{num} is an int\")\n",
        "else:\n",
        "    print(f\"{num} is a float\")"
      ]
    },
    {
      "cell_type": "markdown",
      "metadata": {
        "id": "ma6C7CtqFeI-"
      },
      "source": [
        "##### abs()"
      ]
    },
    {
      "cell_type": "code",
      "execution_count": 46,
      "metadata": {
        "id": "70KvL3zvFeI-"
      },
      "outputs": [
        {
          "name": "stdout",
          "output_type": "stream",
          "text": [
            "5\n"
          ]
        }
      ],
      "source": [
        "# |-5| = 5\n",
        "\n",
        "print(abs(-5))"
      ]
    },
    {
      "cell_type": "markdown",
      "metadata": {
        "id": "jL0ErqYuFeI_"
      },
      "source": [
        "### Try and Except"
      ]
    },
    {
      "cell_type": "code",
      "execution_count": 47,
      "metadata": {
        "id": "MIs1Uv-nFeI_"
      },
      "outputs": [
        {
          "name": "stdout",
          "output_type": "stream",
          "text": [
            "That didn't work! Change your input to a number!\n"
          ]
        }
      ],
      "source": [
        "# Log this to log out graceful and useful error messages\n",
        "# Does not stop the program!\n",
        "\n",
        "try:\n",
        "    input_num = int(input('Guess a number'))\n",
        "    print(f'Your number is: {str(input_num)}')\n",
        "        \n",
        "except:\n",
        "    print(\"That didn't work! Change your input to a number!\")"
      ]
    },
    {
      "cell_type": "markdown",
      "metadata": {
        "id": "cA6QjC-bFeI_"
      },
      "source": [
        "### Lists"
      ]
    },
    {
      "cell_type": "markdown",
      "metadata": {
        "id": "0E-gbH7yFeI_"
      },
      "source": [
        "##### Declaring Lists"
      ]
    },
    {
      "cell_type": "code",
      "execution_count": 48,
      "metadata": {
        "id": "eah-pGgiFeI_"
      },
      "outputs": [
        {
          "name": "stdout",
          "output_type": "stream",
          "text": [
            "['Max', 'Cindy', 'Kathy', 'Bob', 'Nate']\n"
          ]
        }
      ],
      "source": [
        "list_1 = []\n",
        "\n",
        "names = ['Max', 'Cindy', 'Kathy', 'Bob', 'Nate']\n",
        "print(names)"
      ]
    },
    {
      "cell_type": "markdown",
      "metadata": {
        "id": "qxu3822gFeJA"
      },
      "source": [
        "##### Indexing a List"
      ]
    },
    {
      "cell_type": "code",
      "execution_count": 49,
      "metadata": {
        "id": "BNRVIQbgFeJA"
      },
      "outputs": [
        {
          "name": "stdout",
          "output_type": "stream",
          "text": [
            "Max\n",
            "['Cindy', 'Kathy', 'Bob', 'Nate']\n",
            "['Max', 'Cindy']\n",
            "['Cindy', 'Bob']\n",
            "['Nate', 'Bob', 'Kathy', 'Cindy', 'Max']\n"
          ]
        }
      ],
      "source": [
        "# list_name = [start: stop: step]\n",
        "\n",
        "# Single Index\n",
        "print(names[0])\n",
        "\n",
        "# Print starting at index 1 going to the end\n",
        "print(names[1:])\n",
        "\n",
        "# Print starting at the beginning of a list up until a number\n",
        "print(names[:2])\n",
        "\n",
        "# print starting at index 1 and going up by 2 in each iteration\n",
        "print(names[1::2])\n",
        "\n",
        "# print starting at the back and display in reverse order\n",
        "print(names[::-1])"
      ]
    },
    {
      "cell_type": "markdown",
      "metadata": {
        "id": "J1v_3o1yFeJA"
      },
      "source": [
        "##### .append()"
      ]
    },
    {
      "cell_type": "code",
      "execution_count": 50,
      "metadata": {
        "id": "R6JKnA15FeJA"
      },
      "outputs": [
        {
          "name": "stdout",
          "output_type": "stream",
          "text": [
            "['Max', 'Cindy', 'Kathy', 'Bob', 'Nate', 'Brandon']\n"
          ]
        }
      ],
      "source": [
        "names.append('Brandon')\n",
        "print(names)"
      ]
    },
    {
      "cell_type": "markdown",
      "metadata": {
        "id": "z9hOEhhdFeJA"
      },
      "source": [
        "##### .insert()"
      ]
    },
    {
      "cell_type": "code",
      "execution_count": 51,
      "metadata": {
        "id": "AbcM3_esFeJB"
      },
      "outputs": [
        {
          "name": "stdout",
          "output_type": "stream",
          "text": [
            "['Max', 'Cindy', 'Kathy', 'Devon', 'Bob', 'Nate', 'Brandon']\n"
          ]
        }
      ],
      "source": [
        "names.insert(3, 'Devon')\n",
        "print(names)"
      ]
    },
    {
      "cell_type": "markdown",
      "metadata": {
        "id": "J-Bq0M_RFeJC"
      },
      "source": [
        "##### .pop()"
      ]
    },
    {
      "cell_type": "code",
      "execution_count": 52,
      "metadata": {
        "id": "BFIwViYdFeJD"
      },
      "outputs": [
        {
          "name": "stdout",
          "output_type": "stream",
          "text": [
            "Kathy\n",
            "['Max', 'Cindy', 'Devon', 'Bob', 'Nate', 'Brandon']\n"
          ]
        }
      ],
      "source": [
        "# Defaults ot the last value if no parameter is given\n",
        "# Pop returns the element that was removed in case you want to assign it to a variable\n",
        "\n",
        "my_name = names.pop(2)\n",
        "print(my_name)\n",
        "print(names)"
      ]
    },
    {
      "cell_type": "markdown",
      "metadata": {
        "id": "PnDqYvMlFeJD"
      },
      "source": [
        "\n",
        "##### .remove()"
      ]
    },
    {
      "cell_type": "code",
      "execution_count": 53,
      "metadata": {
        "id": "uBGoF7zMFeJD"
      },
      "outputs": [
        {
          "name": "stdout",
          "output_type": "stream",
          "text": [
            "['Max', 'Cindy', 'Devon', 'Nate', 'Brandon']\n",
            "['Max', 'Cindy', 'Devon', 'Nate']\n"
          ]
        }
      ],
      "source": [
        "# Value to removed rather thatn index\n",
        "names.remove('Bob')\n",
        "print(names)\n",
        "\n",
        "while 'Brandon' in names:\n",
        "    names.remove('Brandon')\n",
        "print(names)"
      ]
    },
    {
      "cell_type": "markdown",
      "metadata": {
        "id": "dohx1zYxFeJE"
      },
      "source": [
        "##### del()"
      ]
    },
    {
      "cell_type": "code",
      "execution_count": 54,
      "metadata": {
        "id": "EOnm40LnFeJE"
      },
      "outputs": [
        {
          "name": "stdout",
          "output_type": "stream",
          "text": [
            "['Max', 'Devon', 'Nate']\n"
          ]
        }
      ],
      "source": [
        "# Goes by index rather than value\n",
        "# Be careful wil del, it can cause indexing errors if not used carefully\n",
        "\n",
        "del(names[1])\n",
        "print(names)"
      ]
    },
    {
      "cell_type": "markdown",
      "metadata": {
        "id": "HIzxAjPbFeJE"
      },
      "source": [
        "##### Concatenating Two Lists"
      ]
    },
    {
      "cell_type": "code",
      "execution_count": 55,
      "metadata": {
        "id": "rsQ63Ly1FeJE"
      },
      "outputs": [
        {
          "name": "stdout",
          "output_type": "stream",
          "text": [
            "[0, 1, 2, 3, 4, 5]\n"
          ]
        }
      ],
      "source": [
        "# Will append to lists together, will not add the values\n",
        "\n",
        "list_2 = [0, 1, 2]\n",
        "list_3 = [3, 4, 5]\n",
        "\n",
        "large_list = list_2 + list_3\n",
        "print(large_list)"
      ]
    },
    {
      "cell_type": "markdown",
      "metadata": {
        "id": "9gcFLl-cFeJE"
      },
      "source": [
        "##### Lists Within Lists"
      ]
    },
    {
      "cell_type": "code",
      "execution_count": 56,
      "metadata": {
        "id": "w_VJ8j-TFeJE"
      },
      "outputs": [
        {
          "name": "stdout",
          "output_type": "stream",
          "text": [
            "['Max', 'sam', 'Josh', ['Sally', ['Sue', 'Jim'], 'Tameka']]\n",
            "Jim\n"
          ]
        }
      ],
      "source": [
        "# Lists can hold any type of other elements! Including other lists!\n",
        "# They can go as deep as your wan; this is called nested lists\n",
        "\n",
        "names = ['Max', 'sam', 'Josh', ['Sally', ['Sue', 'Jim'], 'Tameka']]\n",
        "print(names)\n",
        "print(names[3][1][1])"
      ]
    },
    {
      "cell_type": "markdown",
      "metadata": {
        "id": "HivEB3N_FeJE"
      },
      "source": [
        "##### Looping Through Lists"
      ]
    },
    {
      "cell_type": "code",
      "execution_count": 57,
      "metadata": {
        "id": "--qWMjjZFeJE"
      },
      "outputs": [
        {
          "name": "stdout",
          "output_type": "stream",
          "text": [
            "Max\n",
            "sam\n",
            "Josh\n",
            "['Sally', ['Sue', 'Jim'], 'Tameka']\n",
            "Max\n",
            "sam\n",
            "Josh\n",
            "['Sally', ['Sue', 'Jim'], 'Tameka']\n"
          ]
        }
      ],
      "source": [
        "# Two ways to loop thorugh a list! One is by index; the other is by using the 'in' keyword\n",
        "\n",
        "# By idnex\n",
        "for i in range(len(names)):\n",
        "    print(names[i])\n",
        "    \n",
        "    # Loop with in\n",
        "for i in names:\n",
        "    print(i)"
      ]
    },
    {
      "cell_type": "markdown",
      "metadata": {
        "id": "O4Agyz0HFeJF"
      },
      "source": [
        "## Exercise #1 <br>\n",
        "<p>Cube Number Test... Print out all cubed numbers up to the total value 1000. Meaning that if the cubed number is over 1000 break the loop.</p>"
      ]
    },
    {
      "cell_type": "code",
      "execution_count": 92,
      "metadata": {
        "id": "6Y0-5lhlFeJF"
      },
      "outputs": [
        {
          "name": "stdout",
          "output_type": "stream",
          "text": [
            "1\n",
            "8\n",
            "27\n",
            "64\n",
            "125\n",
            "216\n",
            "343\n",
            "512\n",
            "729\n",
            "1000\n"
          ]
        }
      ],
      "source": [
        "active = True\n",
        "num = 1\n",
        "\n",
        "while active:\n",
        "    cube = num ** 3\n",
        "    if cube > 1000:\n",
        "        active = False\n",
        "    else:\n",
        "        print(cube)\n",
        "        num += 1\n",
        "        "
      ]
    },
    {
      "cell_type": "markdown",
      "metadata": {
        "id": "x2hnzDr7FeJF"
      },
      "source": [
        "## Exercise #2 <br>\n",
        "<p>Get first prime numbers up to 100</p>"
      ]
    },
    {
      "cell_type": "code",
      "execution_count": 99,
      "metadata": {
        "id": "Hn4990AbFeJF"
      },
      "outputs": [
        {
          "name": "stdout",
          "output_type": "stream",
          "text": [
            "1\n",
            "3\n",
            "5\n",
            "7\n",
            "11\n",
            "13\n",
            "17\n",
            "19\n",
            "23\n",
            "29\n",
            "31\n",
            "37\n",
            "41\n",
            "43\n",
            "47\n",
            "53\n",
            "59\n",
            "61\n",
            "67\n",
            "71\n",
            "73\n",
            "79\n",
            "83\n",
            "89\n",
            "97\n"
          ]
        }
      ],
      "source": [
        "# HINT::\n",
        "# An else after an if runs if the if didn’t\n",
        "# An else after a for runs if the for didn’t break\n",
        "num = 1\n",
        "\n",
        "while num <= 100:\n",
        "    prime = True\n",
        "    \n",
        "    if num % 2 == 0:\n",
        "        prime = False\n",
        "    else:\n",
        "        half = num//2 + 1\n",
        "        for i in range(3, half, 2):\n",
        "            if num % i == 0:\n",
        "                prime = False\n",
        "        \n",
        "    if prime:\n",
        "        print(num)\n",
        "    num += 1\n",
        "\n"
      ]
    },
    {
      "cell_type": "markdown",
      "metadata": {
        "id": "6m8q41DwFeJF"
      },
      "source": [
        "# Exercise 3 <br>\n",
        "<p>Take in a users input for their age, if they are younger than 18 print kids, if they're 18 to 65 print adults, else print seniors</p>"
      ]
    },
    {
      "cell_type": "code",
      "execution_count": 102,
      "metadata": {
        "id": "9nmnA1jiFeJG"
      },
      "outputs": [
        {
          "name": "stdout",
          "output_type": "stream",
          "text": [
            "seniors\n"
          ]
        }
      ],
      "source": [
        "age = int(input('What is your age? '))\n",
        "\n",
        "if age < 18:\n",
        "    print('kids')\n",
        "elif age < 65:\n",
        "    print('adults')\n",
        "else:\n",
        "    print('seniors')"
      ]
    }
  ],
  "metadata": {
    "colab": {
      "name": "Python Document 1.ipynb",
      "provenance": []
    },
    "kernelspec": {
      "display_name": "Python 3.9.5 64-bit",
      "language": "python",
      "name": "python3"
    },
    "language_info": {
      "codemirror_mode": {
        "name": "ipython",
        "version": 3
      },
      "file_extension": ".py",
      "mimetype": "text/x-python",
      "name": "python",
      "nbconvert_exporter": "python",
      "pygments_lexer": "ipython3",
      "version": "3.9.5"
    },
    "vscode": {
      "interpreter": {
        "hash": "916dbcbb3f70747c44a77c7bcd40155683ae19c65e1c03b4aa3499c5328201f1"
      }
    }
  },
  "nbformat": 4,
  "nbformat_minor": 0
}
